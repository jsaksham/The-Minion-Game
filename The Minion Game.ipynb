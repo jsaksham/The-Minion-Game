{
 "cells": [
  {
   "cell_type": "markdown",
   "metadata": {},
   "source": [
    "Kevin and Stuart want to play the 'The Minion Game'.\n",
    "\n",
    "### Game Rules\n",
    "\n",
    "Both players are given the same string .\n",
    "\n",
    "Both players have to make substrings using the letters of the string .\n",
    "\n",
    "Stuart has to make words starting with consonants.\n",
    "\n",
    "Kevin has to make words starting with vowels.\n",
    "\n",
    "The game ends when both players have made all possible substrings.\n",
    "\n",
    "### Scoring\n",
    "\n",
    "A player gets +1 point for each occurrence of the substring in the string .\n",
    "\n",
    "For Example:\n",
    "\n",
    "String  = BANANA\n",
    "\n",
    "Kevin's vowel beginning word = ANA\n",
    "\n",
    "Here, ANA occurs twice in BANANA. Hence, Kevin will get 2 Points.\n"
   ]
  },
  {
   "cell_type": "code",
   "execution_count": 1,
   "metadata": {},
   "outputs": [],
   "source": [
    "def minion_game(string):\n",
    "    aset=[]\n",
    "    for i in range(0, len(string)):\n",
    "        for j in range(i, len(string)): # ensures that j >= i, no test required\n",
    "            part=string[i:j+1]\n",
    "            if len(part) > 0:\n",
    "                aset.append(part)\n",
    "    kevin=[]\n",
    "    stuart=[]\n",
    "    for substr in aset:\n",
    "        if substr[0] in 'AEIOU':\n",
    "            kevin.append(substr)\n",
    "        else:\n",
    "            stuart.append(substr)\n",
    "    kevin_score=len(kevin)\n",
    "    stuart_score=len(stuart)\n",
    "    if stuart_score>kevin_score:\n",
    "        print(f'Stuart {stuart_score}')\n",
    "    else:\n",
    "        print(f'Kevin {kevin_score}')\n",
    "    "
   ]
  },
  {
   "cell_type": "code",
   "execution_count": 3,
   "metadata": {},
   "outputs": [
    {
     "name": "stdout",
     "output_type": "stream",
     "text": [
      "banana\n",
      "Stuart 12\n"
     ]
    }
   ],
   "source": [
    "s = input().upper()\n",
    "minion_game(s)"
   ]
  },
  {
   "cell_type": "code",
   "execution_count": null,
   "metadata": {},
   "outputs": [],
   "source": []
  }
 ],
 "metadata": {
  "kernelspec": {
   "display_name": "Python 3",
   "language": "python",
   "name": "python3"
  },
  "language_info": {
   "codemirror_mode": {
    "name": "ipython",
    "version": 3
   },
   "file_extension": ".py",
   "mimetype": "text/x-python",
   "name": "python",
   "nbconvert_exporter": "python",
   "pygments_lexer": "ipython3",
   "version": "3.7.6"
  }
 },
 "nbformat": 4,
 "nbformat_minor": 4
}
